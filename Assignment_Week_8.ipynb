{
  "cells": [
    {
      "cell_type": "markdown",
      "source": [
        "#Data 620 Week-8 Assignment: High Frequency Words\n",
        "\n",
        "\n",
        "Group member: Mahmud Hasan Al Raji and Warner Alexis\n",
        "\n"
      ],
      "metadata": {
        "id": "nFLR0DJFfY-g"
      },
      "id": "nFLR0DJFfY-g"
    },
    {
      "cell_type": "markdown",
      "id": "36c9b704",
      "metadata": {
        "id": "36c9b704"
      },
      "source": [
        "This code uses the **Gutenberg corpus** from the **NLTK library**, which provides access to a collection of classic literary texts in plain text format. The command `gutenberg.fileids()` lists all the available books in the corpus, and by selecting `'austen-emma.txt'`, the code specifically loads the full text of **Jane Austen’s *Emma*** into the variable `doc_text`. The novel *Emma*, published in **1815**, is one of Austen’s most famous works and centers on **Emma Woodhouse**, a young woman who enjoys matchmaking but often misjudges the relationships and emotions of those around her. This dataset is commonly used in text analysis and natural language processing because it represents 19th-century English literature with rich vocabulary, distinct dialogue, and character interactions—making it ideal for studying word frequency, sentiment, and stylistic patterns.\n"
      ]
    },
    {
      "cell_type": "code",
      "execution_count": 4,
      "id": "c33d19af",
      "metadata": {
        "id": "c33d19af"
      },
      "outputs": [],
      "source": [
        "import re\n",
        "from collections import Counter\n",
        "import math\n",
        "import numpy as np\n",
        "import pandas as pd\n",
        "import matplotlib.pyplot as plt\n",
        "from textwrap import dedent\n"
      ]
    },
    {
      "cell_type": "markdown",
      "source": [
        "#Q1: Choose a corpus of interest"
      ],
      "metadata": {
        "id": "m46eEggwTOil"
      },
      "id": "m46eEggwTOil"
    },
    {
      "cell_type": "code",
      "execution_count": 8,
      "id": "ad6b255c",
      "metadata": {
        "colab": {
          "base_uri": "https://localhost:8080/"
        },
        "id": "ad6b255c",
        "outputId": "b00d1798-8666-4d7b-dd80-1057a35bfdec"
      },
      "outputs": [
        {
          "output_type": "stream",
          "name": "stdout",
          "text": [
            "['austen-emma.txt', 'austen-persuasion.txt', 'austen-sense.txt', 'bible-kjv.txt', 'blake-poems.txt', 'bryant-stories.txt', 'burgess-busterbrown.txt', 'carroll-alice.txt', 'chesterton-ball.txt', 'chesterton-brown.txt', 'chesterton-thursday.txt', 'edgeworth-parents.txt', 'melville-moby_dick.txt', 'milton-paradise.txt', 'shakespeare-caesar.txt', 'shakespeare-hamlet.txt', 'shakespeare-macbeth.txt', 'whitman-leaves.txt']\n",
            "887071 characters\n",
            "[Emma by Jane Austen 1816]\n",
            "\n",
            "VOLUME I\n",
            "\n",
            "CHAPTER I\n",
            "\n",
            "\n",
            "Emma Woodhouse, handsome, clever, and rich, with a comfortable home\n",
            "and happy disposition, seemed to unite some of the best blessings\n",
            "of existence; and had lived nearly twenty-one years in the world\n",
            "with very little to distress or vex her.\n",
            "\n",
            "She was the youngest of the two daughters of a most affectionate,\n",
            "indulgent father; and had, in consequence of her sister's marriage,\n",
            "been mistress of his house from a very early period.  Her mother\n",
            "had died t\n"
          ]
        },
        {
          "output_type": "stream",
          "name": "stderr",
          "text": [
            "[nltk_data] Downloading package gutenberg to /root/nltk_data...\n",
            "[nltk_data]   Package gutenberg is already up-to-date!\n"
          ]
        }
      ],
      "source": [
        "from nltk.corpus import gutenberg\n",
        "import nltk\n",
        "nltk.download('gutenberg')\n",
        "\n",
        "# list available texts\n",
        "print(gutenberg.fileids())\n",
        "\n",
        "# pick a corpus, e.g. Jane Austen’s *Emma*\n",
        "doc_text = gutenberg.raw('austen-emma.txt')\n",
        "\n",
        "print(len(doc_text), \"characters\")\n",
        "print(doc_text[:500])"
      ]
    },
    {
      "cell_type": "code",
      "execution_count": 9,
      "id": "ddcb90ec",
      "metadata": {
        "id": "ddcb90ec"
      },
      "outputs": [],
      "source": [
        "corpus_text = dedent(doc_text).strip()\n",
        "\n",
        "token_pattern = re.compile(r\"[A-Za-z]+(?:'[A-Za-z]+)?\")\n",
        "\n",
        "def tokenize(text: str):\n",
        "    return [t.lower() for t in token_pattern.findall(text)]"
      ]
    },
    {
      "cell_type": "markdown",
      "source": [
        "#Q2: How many total unique words are in the corpus?"
      ],
      "metadata": {
        "id": "_DV4emTZTjh4"
      },
      "id": "_DV4emTZTjh4"
    },
    {
      "cell_type": "code",
      "execution_count": 10,
      "id": "f6cc714b",
      "metadata": {
        "id": "f6cc714b"
      },
      "outputs": [],
      "source": [
        "tokens = tokenize(doc_text)"
      ]
    },
    {
      "cell_type": "code",
      "execution_count": 11,
      "id": "86f52c8b",
      "metadata": {
        "id": "86f52c8b"
      },
      "outputs": [],
      "source": [
        "# How many unique total words?\n",
        "vocab = sorted(set(tokens))\n",
        "num_unique = len(vocab)\n",
        "\n",
        "#Fequency table\n",
        "counts = Counter(tokens)\n",
        "total_tokens = len(tokens)\n"
      ]
    },
    {
      "cell_type": "markdown",
      "id": "044ff359",
      "metadata": {
        "id": "044ff359"
      },
      "source": [
        "This section of the code performs the **text preprocessing** phase, which is essential before conducting any linguistic or frequency analysis on the *Emma* text. The process begins by defining a **tokenization pattern** using regular expressions to extract only alphabetic words (including words with apostrophes, like “don’t”). The `tokenize()` function converts all words to lowercase for consistency and then produces a list of tokens essentially the individual words that make up the text. Next, the code calculates the **vocabulary size** (`num_unique`) by finding all unique words and counts the **total number of tokens** using Python’s `Counter`.\n",
        "\n",
        "After that, a **stopword removal** step is applied. Using NLTK’s built-in English stopwords (common words like “the,” “and,” “is”), along with a custom list of additional words specific to this text (such as “mr,” “mrs,” “could,” “would,” “said”), the code filters out words that carry little semantic meaning or are overly frequent in Austen’s narrative style. The resulting `tokens_no_stop` list contains cleaner, content-rich words better suited for analysis of meaningful vocabulary and stylistic patterns within *Emma*.\n"
      ]
    },
    {
      "cell_type": "markdown",
      "source": [
        "#Q3: How many unique words cover half of all tokens?"
      ],
      "metadata": {
        "id": "ZlWZ6wKLcWX3"
      },
      "id": "ZlWZ6wKLcWX3"
    },
    {
      "cell_type": "code",
      "source": [
        "# Sort counts in descending order\n",
        "sorted_counts = counts.most_common()\n",
        "\n",
        "# Compute cumulative total to find where 50% of all tokens can be reached\n",
        "cumulative = 0\n",
        "rank_at_half = 0\n",
        "half_total = sum(counts.values()) / 2\n",
        "\n",
        "for word, count in sorted_counts:\n",
        "    cumulative += count\n",
        "    rank_at_half += 1\n",
        "    if cumulative >= half_total:\n",
        "        break\n",
        "\n",
        "print(f\"Unique words needed to cover 50% of total words: {rank_at_half}\")\n"
      ],
      "metadata": {
        "id": "aD6fwerdcW1X",
        "colab": {
          "base_uri": "https://localhost:8080/"
        },
        "outputId": "2e1e2066-cbb5-48d4-e396-bb7e419e932c"
      },
      "execution_count": 14,
      "outputs": [
        {
          "output_type": "stream",
          "name": "stdout",
          "text": [
            "Unique words needed to cover 50% of total words: 56\n"
          ]
        }
      ],
      "id": "aD6fwerdcW1X"
    },
    {
      "cell_type": "code",
      "execution_count": 15,
      "id": "dd29a884",
      "metadata": {
        "colab": {
          "base_uri": "https://localhost:8080/"
        },
        "id": "dd29a884",
        "outputId": "55838b34-7354-47f3-e11a-0d07920101f8"
      },
      "outputs": [
        {
          "output_type": "stream",
          "name": "stderr",
          "text": [
            "[nltk_data] Downloading package stopwords to /root/nltk_data...\n",
            "[nltk_data]   Package stopwords is already up-to-date!\n"
          ]
        }
      ],
      "source": [
        "from  nltk.corpus import stopwords\n",
        "from nltk import pos_tag, word_tokenize\n",
        "\n",
        "nltk.download(\"stopwords\")\n",
        "stop_words = set(stopwords.words('english'))\n",
        "custom_stopwords = {'mr', 'mrs', 'miss', 'ms', 'could', 'would', 'must', 'never', 'much', 'said', 'one','shall',\n",
        "                    'us','two','still','yet','less'}\n",
        "stop_words.update(custom_stopwords)\n",
        "\n",
        "# Tokenize and remove stopwords\n",
        "tokens_no_stop = [w for w in tokens if w not in stop_words]\n"
      ]
    },
    {
      "cell_type": "code",
      "execution_count": 18,
      "id": "824eb0f1",
      "metadata": {
        "colab": {
          "base_uri": "https://localhost:8080/"
        },
        "id": "824eb0f1",
        "outputId": "6fed943f-f14b-4479-d693-1692e6eaa6a0"
      },
      "outputs": [
        {
          "output_type": "stream",
          "name": "stderr",
          "text": [
            "[nltk_data] Downloading package averaged_perceptron_tagger_eng to\n",
            "[nltk_data]     /root/nltk_data...\n",
            "[nltk_data]   Package averaged_perceptron_tagger_eng is already up-to-\n",
            "[nltk_data]       date!\n"
          ]
        }
      ],
      "source": [
        "nltk.download('averaged_perceptron_tagger_eng')\n",
        "\n",
        "# Pos tagg for filtering tokens\n",
        "tagged = pos_tag(tokens_no_stop)\n",
        "#Keep only words tokens\n",
        "content_tags = {'NN', 'NNS', 'NNP', 'NNPS', 'VB', 'VBD', 'VBG', 'VBN', 'VBP', 'VBZ', 'JJ', 'JJR', 'JJS', 'RB', 'RBR', 'RBS'}\n",
        "content_words = [word for word, tag in tagged if tag in content_tags]\n"
      ]
    },
    {
      "cell_type": "markdown",
      "id": "78243433",
      "metadata": {
        "id": "78243433"
      },
      "source": [
        "We create these steps to  focus on refining the text by keeping only **content words** those that carry real meaning, such as nouns, verbs, adjectives, and adverbs—while filtering out **stopwords** and less informative tokens. Stopwords like *the*, *is*, *and*, or *to* are extremely common in English but add little analytical value because they don’t reflect the subject matter or style of a text. Similarly, the code removes words like *mr*, *mrs*, and *said*, which appear frequently in literary works like *Emma* but don’t contribute much to understanding the story’s themes or emotions.\n",
        "\n",
        "After tokenizing and cleaning the text, the script uses **part-of-speech (POS) tagging** (`pos_tag`) to identify the grammatical role of each word. It then filters tokens to include only those tagged as nouns, verbs, adjectives, or adverbs defined in the `content_tags` set. This ensures the analysis focuses on meaningful vocabulary that conveys actions, descriptions, and ideas rather than grammatical connectors or repetitive names. Finally, it recalculates the frequency of these filtered words to identify the **most significant 200 content words**, allowing a more accurate understanding of Austen’s language patterns, character focus, and stylistic tendencies within *Emma*.\n"
      ]
    },
    {
      "cell_type": "markdown",
      "source": [
        "#Q4: Identify the 200 highest frequency words"
      ],
      "metadata": {
        "id": "8Xt5MmsNVFxY"
      },
      "id": "8Xt5MmsNVFxY"
    },
    {
      "cell_type": "code",
      "execution_count": 19,
      "id": "7e100a4a",
      "metadata": {
        "colab": {
          "base_uri": "https://localhost:8080/"
        },
        "id": "7e100a4a",
        "outputId": "673a4e94-c94f-4c5f-f206-91fb2b8d97da"
      },
      "outputs": [
        {
          "output_type": "stream",
          "name": "stdout",
          "text": [
            "\tTop 200 Content Words (stopwords + names removed)\n",
            "           word  count  relative_freq\n",
            "0         emma    754       0.012044\n",
            "1      harriet    415       0.006629\n",
            "2         well    403       0.006437\n",
            "3        thing    398       0.006357\n",
            "4        think    384       0.006134\n",
            "..         ...    ...            ...\n",
            "195  attention     59       0.000942\n",
            "196       dare     59       0.000942\n",
            "197   superior     59       0.000942\n",
            "198     answer     59       0.000942\n",
            "199     assure     59       0.000942\n",
            "\n",
            "[200 rows x 3 columns]\n"
          ]
        }
      ],
      "source": [
        "# Count frequencies again\n",
        "filtered_counts = Counter(content_words)\n",
        "top_n = 200\n",
        "top_items = filtered_counts.most_common(top_n)\n",
        "\n",
        "top_df = pd.DataFrame(top_items, columns=[\"word\", \"count\"])\n",
        "top_df[\"relative_freq\"] = top_df[\"count\"] / len(content_words)\n",
        "\n",
        "print(\"\\tTop 200 Content Words (stopwords + names removed)\\n\", top_df)\n",
        "\n",
        "\n",
        "\n"
      ]
    },
    {
      "cell_type": "markdown",
      "source": [
        "#Q5: Create a graph that shows the relative frequency of these 200 words"
      ],
      "metadata": {
        "id": "E6xGIoM0VXZM"
      },
      "id": "E6xGIoM0VXZM"
    },
    {
      "cell_type": "code",
      "execution_count": 20,
      "id": "e00daf0f",
      "metadata": {
        "colab": {
          "base_uri": "https://localhost:8080/",
          "height": 507
        },
        "id": "e00daf0f",
        "outputId": "b0edbbba-b3a9-4bf5-c26c-1a788d4fd1af"
      },
      "outputs": [
        {
          "output_type": "display_data",
          "data": {
            "text/plain": [
              "<Figure size 1000x500 with 1 Axes>"
            ],
            "image/png": "[encoded data removed]"
          },
          "metadata": {}
        }
      ],
      "source": [
        "# Create a graph showing the relative frequency of these 200 words\n",
        "plt.figure(figsize=(10, 5))\n",
        "plt.plot(range(1, len(top_df) + 1), top_df[\"relative_freq\"].values, marker=\"o\")\n",
        "plt.title(\"Relative Frequency of Top 200 Words\")\n",
        "plt.xlabel(\"Rank among top words (1 = most frequent)\")\n",
        "plt.ylabel(\"Relative frequency\")\n",
        "plt.tight_layout()\n",
        "plt.show()\n",
        "\n"
      ]
    },
    {
      "cell_type": "markdown",
      "id": "14a2d552",
      "metadata": {
        "id": "14a2d552"
      },
      "source": [
        "This graph shows the **relative frequency distribution of the top 200 words** in Jane Austen’s *Emma* after removing stopwords and common names. Each point represents a word ranked by how often it appears in the text, with the most frequent word on the left and less frequent ones toward the right. The steep drop at the beginning shows that a few words occur very often, while most words appear much less frequently. This pattern is typical of natural language and follows **Zipf’s law**, which states that word frequency in a corpus is inversely proportional to its rank. In simpler terms, the most common words dominate the text, but as rank increases, frequency decreases rapidly, forming a long tail. The curve in this plot reflects that behavior, confirming that *Emma*, like most literary works, has a small set of highly frequent content words that shape much of the narrative and a large number of words that occur rarely, adding richness and variety to Austen’s language.\n"
      ]
    },
    {
      "cell_type": "markdown",
      "source": [
        "#Q6: Does the observed relative frequency follow Zipf’s Law?"
      ],
      "metadata": {
        "id": "EzV3gpbXVuP8"
      },
      "id": "EzV3gpbXVuP8"
    },
    {
      "cell_type": "code",
      "execution_count": 21,
      "id": "b46d9298",
      "metadata": {
        "id": "b46d9298"
      },
      "outputs": [],
      "source": [
        "# Zipf's law check: log-log plot frequency vs rank, fit a line and compute slope & R^2\n",
        "# Build full rank-frequency (not just top 200) to check Zipf\n",
        "\n",
        "ranked = counts.most_common()\n",
        "ranks = np.arange(1, len(ranked) + 1, dtype=float)\n",
        "freqs = np.array([c for _, c in ranked], dtype=float) / total_tokens\n",
        " #Guard against zeros (shouldn't happen for counts)\n",
        "log_ranks = np.log(ranks)\n",
        "log_freqs = np.log(freqs)"
      ]
    },
    {
      "cell_type": "code",
      "execution_count": 22,
      "id": "ba3e3f71",
      "metadata": {
        "id": "ba3e3f71"
      },
      "outputs": [],
      "source": [
        "# Linear regression: log_freq = a + b * log_rank\n",
        "b, a = np.polyfit(log_ranks, log_freqs, 1)\n",
        "pred = a + b * log_ranks\n",
        "ss_res = np.sum((log_freqs - pred) ** 2)\n",
        "ss_tot = np.sum((log_freqs - np.mean(log_freqs)) ** 2)\n",
        "r2 = 1 - ss_res / ss_tot"
      ]
    },
    {
      "cell_type": "code",
      "execution_count": 23,
      "id": "c4067477",
      "metadata": {
        "colab": {
          "base_uri": "https://localhost:8080/",
          "height": 507
        },
        "id": "c4067477",
        "outputId": "c6a7fc87-f8ec-4490-d389-9f14af2b799c"
      },
      "outputs": [
        {
          "output_type": "display_data",
          "data": {
            "text/plain": [
              "<Figure size 1000x500 with 1 Axes>"
            ],
            "image/png": "[encoded data removed]"
          },
          "metadata": {}
        }
      ],
      "source": [
        "plt.figure(figsize=(10, 5))\n",
        "plt.scatter(log_ranks, log_freqs, s=10)\n",
        "plt.plot(log_ranks, pred, linewidth=2)\n",
        "plt.title(\"Zipf Plot: log(frequency) vs log(rank)\")\n",
        "plt.xlabel(\"log(rank)\")\n",
        "plt.ylabel(\"log(relative frequency)\")\n",
        "plt.tight_layout()\n",
        "plt.show()\n",
        "\n",
        "# Save a small text summary of the key stats for the user\n",
        "summary_lines = [\n",
        "    f\"Corpus tokens: {total_tokens}\",\n",
        "    f\"Unique words (definition: case-folded alphabetic tokens with optional apostrophes): {num_unique}\",\n",
        "    f\"Unique words needed to cover 50% of tokens: {rank_at_half}\",\n",
        "    f\"Zipf fit slope (expected near -1): {b:.3f}\",\n",
        "    f\"Zipf fit R^2 (closer to 1.0 indicates better Zipf-like behavior): {r2:.3f}\",\n",
        "]\n",
        "summary_text = \"\\n\".join(summary_lines)"
      ]
    },
    {
      "cell_type": "code",
      "execution_count": 24,
      "id": "de9fb8d3",
      "metadata": {
        "colab": {
          "base_uri": "https://localhost:8080/"
        },
        "id": "de9fb8d3",
        "outputId": "f5374465-6fcb-479c-a3f9-98fba6d4dd62"
      },
      "outputs": [
        {
          "output_type": "execute_result",
          "data": {
            "text/plain": [
              "['Corpus tokens: 160994',\n",
              " 'Unique words (definition: case-folded alphabetic tokens with optional apostrophes): 7204',\n",
              " 'Unique words needed to cover 50% of tokens: 56',\n",
              " 'Zipf fit slope (expected near -1): -1.390',\n",
              " 'Zipf fit R^2 (closer to 1.0 indicates better Zipf-like behavior): 0.978']"
            ]
          },
          "metadata": {},
          "execution_count": 24
        }
      ],
      "source": [
        "summary_lines"
      ]
    },
    {
      "cell_type": "markdown",
      "id": "489d1b06",
      "metadata": {
        "id": "489d1b06"
      },
      "source": [
        "\n",
        "In this graph, we analyzed how words are distributed in *Emma* using Zipf’s Law. The x-axis shows each word’s *rank* (from most frequent to least), while the y-axis shows its *relative frequency*, both on a logarithmic scale. The clear downward-sloping line means that the most common words appear far more often than the rest. This pattern is typical in natural language, where a small group of words like common verbs, articles, and pronouns dominate most of the text. As the rank increases, the frequency drops sharply, forming a straight line on the log-log plot, which confirms that the text follows Zipf’s law.\n",
        "\n",
        "The summary statistics support this interpretation. The corpus contains around **161,000 tokens** and **7,204 unique words**, which shows that Austen used a rich but structured vocabulary. Interestingly, only **56 unique words** account for half of the entire text, meaning a few words occur repeatedly while many appear rarely. The slope of **-1.39** is very close to the theoretical Zipf’s value of -1, and the **R² value of 0.978** shows an excellent fit, confirming that the word frequencies in *Emma* align strongly with Zipf’s distribution. Overall, this analysis demonstrates that Austen’s writing reflects the universal linguistic pattern where few words are used very often, and most words are rare but contribute to the richness and style of the novel.\n",
        "\n"
      ]
    },
    {
      "cell_type": "markdown",
      "source": [
        "#Q7: How does this corpus differ from “all words in all corpora”?"
      ],
      "metadata": {
        "id": "gVR3ra49XDhY"
      },
      "id": "gVR3ra49XDhY"
    },
    {
      "cell_type": "markdown",
      "source": [
        "Although Emma follows Zipf’s law like most natural language corpora, its high-frequency words reflect the 19th-century literary style with names such as Emma and Harriet, social titles like Mr and lady, and emotional verbs such as think, feel, and say. In contrast, modern corpora that include news, online text, and scientific writing feature more diverse, contemporary, and informational language. Thus, while the frequency pattern is similar, Emma focuses on relationships and emotions rather than informational topics."
      ],
      "metadata": {
        "id": "vSnqXz1bZd3i"
      },
      "id": "vSnqXz1bZd3i"
    }
  ],
  "metadata": {
    "kernelspec": {
      "display_name": "Python 3",
      "language": "python",
      "name": "python3"
    },
    "language_info": {
      "codemirror_mode": {
        "name": "ipython",
        "version": 3
      },
      "file_extension": ".py",
      "mimetype": "text/x-python",
      "name": "python",
      "nbconvert_exporter": "python",
      "pygments_lexer": "ipython3",
      "version": "3.11.5"
    },
    "colab": {
      "provenance": []
    }
  },
  "nbformat": 4,
  "nbformat_minor": 5
}