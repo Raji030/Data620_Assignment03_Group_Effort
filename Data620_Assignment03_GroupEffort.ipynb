{
  "nbformat": 4,
  "nbformat_minor": 0,
  "metadata": {
    "colab": {
      "provenance": []
    },
    "kernelspec": {
      "name": "python3",
      "display_name": "Python 3"
    },
    "language_info": {
      "name": "python"
    }
  },
  "cells": [
    {
      "cell_type": "markdown",
      "source": [
        "#Data 620-Assignment03\n",
        "\n",
        "Group members: Mahmud Hasan Al Raji and Warner Alexis.\n",
        "\n",
        "This assignment is a group effort. The assignment is designed based on three requirements, which are outlined in the three parts below"
      ],
      "metadata": {
        "id": "6IjWVeJZY5pU"
      }
    },
    {
      "cell_type": "markdown",
      "source": [
        "#Part-1. Identifying a dataset with network structure and at least one categorical variable\n",
        "We have selected the Deezer Europe Social Network dataset for this assignment. The dataset was collected from the public API in March 2020. It is now available as a CSV file on Stanford University's dataset collection site (SNAP, link: https://snap.stanford.edu/data/feather-deezer-social.html), from where we obtained it. The dataset has 28,281 nodes and 92,752 edges. Nodes represent users from European countries, and edges represent mutual follower relationships.The user (i.e. gender) is a categorical variable and in the target file, 0 represents Male and 1 represents Female. This dataset is suitable because it provides both the network structure and categorical variables for nodes, which are required for the assignment.\n",
        "\n",
        "The dataset is a large, sparse network with a density of only 0.00023. On average, each user maintains about 6.56 connections, and the clustering coeffcient of 0.0959 indicates a modest tendency toward small friendship circles where friends of friends are also connected. Because not\n",
        "all users belong to the same connected component, the largest connected component (LCC) is extracted to provide a meaningful foundation for further analysis. This dataset, with its binary gender labels, oﬀers a valuable opportunity to explore centrality measures across categories, assess\n",
        "homophily, and compare how structural importance diﬀers between groups."
      ],
      "metadata": {
        "id": "pmTYXj7NaB5G"
      }
    },
    {
      "cell_type": "markdown",
      "source": [
        "#Part-2.High plan for loading and analyzing the data\n",
        "\n",
        "*Load the edges file and create a network graph using NetworkX.\n",
        "\n",
        "*Load node attributes and assign gender to nodes.\n",
        "\n",
        "*Calculate basic metrics: number of nodes, number of edges,density, average degree,and transivity (cluster coefficient).\n",
        "\n",
        "*Calculate centrality measures: degree centrality, betweennes centrality, and closeness centrality.\n",
        "\n",
        "*Compare mean degree centrality across gender groups.\n",
        "\n",
        "*Several visualizations will be incorporated into the analysis:\n",
        "\n",
        "-A histogram of degree distribution, plotted on a log-log scale, will illustrate how connectivity varies across users while highlighting the existence of highly connected hubs.\n",
        "\n",
        "-A boxplot of degree centrality by gender will compare connectivity between male and female users, enabling us to assess whether one group tends to maintain more connections.\n",
        "\n",
        "-A bar chart of class distribution will show the proportion of users in each gender category, providing a quick assessment of balance or skew in the dataset.\n",
        "\n",
        "-A pie chart of homophily will capture the tendency of users to connect with others of the same gender versus across genders.\n",
        "\n",
        "-Finally, a subgraph visualization (sampling 200–300 nodes) will be produced, where nodes are colored by gender and sized by degree centrality, oﬀering an intuitive view of the network’s structure and categorical clustering."
      ],
      "metadata": {
        "id": "ssjKgxQuqsae"
      }
    },
    {
      "cell_type": "code",
      "source": [
        "##Load the edges file and create a network graph using NetworkX.\n",
        "\n",
        "import networkx as nx\n",
        "import pandas as pd\n",
        "\n",
        "edges = pd.read_csv(\"https://raw.githubusercontent.com/Raji030/data620_assignment03_deezer_edges/refs/heads/main/deezer_europe_edges.csv\")\n",
        "G = nx.from_pandas_edgelist(edges, source=\"node_1\", target=\"node_2\")\n"
      ],
      "metadata": {
        "id": "JACx8sM2qzJa"
      },
      "execution_count": 1,
      "outputs": []
    },
    {
      "cell_type": "code",
      "source": [
        "##Load node attributes and assign gender to nodes.\n",
        "node_attr = pd.read_csv(\"https://raw.githubusercontent.com/Raji030/data620_assignment03_deezer_target/refs/heads/main/deezer_europe_target.csv\")\n",
        "gender_dict = node_attr.set_index(\"id\")[\"target\"].map({0: \"Male\", 1: \"Female\"}).to_dict()\n",
        "nx.set_node_attributes(G, gender_dict, \"gender\")\n"
      ],
      "metadata": {
        "id": "ZWI_0kf0rwX8"
      },
      "execution_count": 2,
      "outputs": []
    },
    {
      "cell_type": "code",
      "source": [
        "# Basic Statistics\n",
        "n_nodes = G.number_of_nodes()\n",
        "n_edges = G.number_of_edges()\n",
        "density = nx.density(G)\n",
        "avg_degree = sum(dict(G.degree()).values()) / n_nodes\n",
        "transitivity = nx.transitivity(G)\n",
        "\n",
        "print(f'Number of nodes :{n_nodes}')\n",
        "print(f'Number of edges; {n_edges}')\n",
        "print(f'The density is : {density}')\n",
        "print(f'the Average degree {avg_degree}')\n",
        "print(f'transitivity: {transitivity}')"
      ],
      "metadata": {
        "colab": {
          "base_uri": "https://localhost:8080/",
          "height": 0
        },
        "id": "eFsgfqG11-Dv",
        "outputId": "2f75c293-5e36-491a-9a01-4c758e98c80c"
      },
      "execution_count": 10,
      "outputs": [
        {
          "output_type": "stream",
          "name": "stdout",
          "text": [
            "Number of nodes :28281\n",
            "Number of edges; 92752\n",
            "The density is : 0.00023194184729358083\n",
            "the Average degree 6.559315441462466\n",
            "transitivity: 0.09592226364671026\n"
          ]
        }
      ]
    },
    {
      "cell_type": "code",
      "source": [
        "# Extract largest connected component\n",
        "largest_cc_nodes = max(nx.connected_components(G), key=len)\n",
        "G_lcc = G.subgraph(largest_cc_nodes).copy()\n",
        "lcc_size = len(largest_cc_nodes)\n",
        "print(f'largest connected component:{lcc_size}')"
      ],
      "metadata": {
        "colab": {
          "base_uri": "https://localhost:8080/",
          "height": 0
        },
        "id": "Xzy7M1Uu6w5R",
        "outputId": "0835f6c4-4f34-46c7-ea41-f5deacd15c03"
      },
      "execution_count": 14,
      "outputs": [
        {
          "output_type": "stream",
          "name": "stdout",
          "text": [
            "largest connected component:28281\n"
          ]
        }
      ]
    },
    {
      "cell_type": "code",
      "source": [
        "##Calculate centrality measures.\n",
        "\n",
        "degree_centrality = nx.degree_centrality(G)\n",
        "betweenness_centrality = nx.betweenness_centrality(G)\n",
        "closeness_centrality = nx.closeness_centrality(G)\n"
      ],
      "metadata": {
        "id": "E8xHtHtPsOUr"
      },
      "execution_count": 3,
      "outputs": []
    },
    {
      "cell_type": "code",
      "source": [
        "#print(\"Degree Centrality :\", degree_centrality)\n",
        "#print(\"Betweenness Centrality:\", betweenness_centrality)\n",
        "#print(\"Closeness_centrality:\",closeness_centrality)\n",
        "\n",
        "# Combine these three centralities into a data frame\n",
        "centrality_df = pd.DataFrame({\n",
        "    \"Degree Centrality\": pd.Series(degree_centrality),\n",
        "    \"Betweenness Centrality\": pd.Series(betweenness_centrality),\n",
        "    \"Closeness Centrality\": pd.Series(closeness_centrality)\n",
        "})\n",
        "\n",
        "# Reset index for node IDs to be appeared as a column\n",
        "centrality_df = centrality_df.reset_index().rename(columns={\"index\": \"Node\"})\n",
        "\n",
        "# Sort by degree centrality in descending order\n",
        "centrality_df = centrality_df.sort_values(by=\"Degree Centrality\", ascending=False)\n",
        "\n",
        "# See top 10 rows\n",
        "print(centrality_df.head(10))\n"
      ],
      "metadata": {
        "colab": {
          "base_uri": "https://localhost:8080/",
          "height": 0
        },
        "id": "tNgQ-KtaVQf6",
        "outputId": "e080f532-e884-41b9-afbb-8ae727ded7a7"
      },
      "execution_count": 8,
      "outputs": [
        {
          "output_type": "stream",
          "name": "stdout",
          "text": [
            "       Node  Degree Centrality  Betweenness Centrality  Closeness Centrality\n",
            "508     867           0.006082                0.019998              0.225652\n",
            "2284    396           0.005375                0.009654              0.217430\n",
            "509    1878           0.005127                0.011318              0.216956\n",
            "995   24904           0.004137                0.018064              0.225833\n",
            "1263   5989           0.003960                0.010288              0.224767\n",
            "844   24069           0.003890                0.007732              0.216051\n",
            "737   17963           0.003395                0.008590              0.179218\n",
            "4322  23143           0.003324                0.019281              0.227648\n",
            "772   11080           0.003289                0.006729              0.175809\n",
            "7026  21798           0.003253                0.008633              0.213217\n"
          ]
        }
      ]
    },
    {
      "cell_type": "code",
      "source": [
        "##Compare mean degree centrality across gender groups.\n",
        "\n",
        "male_nodes = [n for n, attr in G.nodes(data=True) if attr['gender'] == 'Male']\n",
        "female_nodes = [n for n, attr in G.nodes(data=True) if attr['gender'] == 'Female']\n",
        "\n",
        "mean_male_degree = sum([degree_centrality[n] for n in male_nodes]) / len(male_nodes)\n",
        "mean_female_degree = sum([degree_centrality[n] for n in female_nodes]) / len(female_nodes)\n",
        "\n",
        "print(\"Mean Degree Centrality (Male):\", mean_male_degree)\n",
        "print(\"Mean Degree Centrality (Female):\", mean_female_degree)\n"
      ],
      "metadata": {
        "colab": {
          "base_uri": "https://localhost:8080/",
          "height": 0
        },
        "id": "iX3PK9u1sax9",
        "outputId": "0e57a261-5c2b-4400-e909-d4b82136e5ae"
      },
      "execution_count": 4,
      "outputs": [
        {
          "output_type": "stream",
          "name": "stdout",
          "text": [
            "Mean Degree Centrality (Male): 0.00023811575266473027\n",
            "Mean Degree Centrality (Female): 0.00022418975028783782\n"
          ]
        }
      ]
    },
    {
      "cell_type": "markdown",
      "source": [
        "#Part-3. Hypothetical demonstration of comparing centrality measures across groups"
      ],
      "metadata": {
        "id": "XXYA2bhDspDO"
      }
    },
    {
      "cell_type": "markdown",
      "source": [
        "Objective: Investigate whether gender affects centrality in the Deezer social network.\n",
        "\n",
        "Hypothesis: Female users may have higher degree centrality than male users.\n",
        "\n",
        "Result:\n",
        "\n",
        "Mean Degree Centrality (Male): 0.000238\n",
        "\n",
        "Mean Degree Centrality (Female): 0.000224\n",
        "\n",
        "Interpretation: In this subset, male users have slightly higher degree centrality. They may have more connections or better visibility.\n",
        "\n",
        "Expected Use: Understanding centrality differences can inform marketing strategies, community engagement, or targeted content delivery. Nodes with higher centrality might be more influential.\n",
        "\n",
        "Conclusion: Although the hypothesis expected female users to have higher centrality, the observed data shows male users having slightly higher centrality. This demonstrates how centrality measures and categorical variables like gender can predict potential outcomes, both positive and negative, for nodes in a network."
      ],
      "metadata": {
        "id": "8VhHNAZ6szuA"
      }
    }
  ]
}